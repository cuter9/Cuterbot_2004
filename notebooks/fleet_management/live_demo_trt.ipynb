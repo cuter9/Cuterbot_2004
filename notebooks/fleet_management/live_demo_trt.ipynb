{
 "cells": [
  {
   "cell_type": "markdown",
   "id": "9efeacbd-ea0c-4d9a-8fe3-5a96f4316613",
   "metadata": {
    "tags": []
   },
   "source": [
    "# Fleet Management - Live Demo (with TRT)\n",
    "\n",
    "In this notebook we'll show how you can follow an object with JetBot!  We'll use a pre-trained neural network\n",
    "that was trained on the [COCO dataset](http://cocodataset.org) to detect 90 different common objects.  These include\n",
    "\n",
    "* Person (index 0)\n",
    "* Cup (index 47)\n",
    "\n",
    "and many others (you can check [this file](https://github.com/tensorflow/models/blob/master/research/object_detection/data/mscoco_complete_label_map.pbtxt) for a full list of class indices).  The model is sourced from the [TensorFlow object detection API](https://github.com/tensorflow/models/tree/master/research/object_detection)\n",
    "which provides utilities for training object detectors for custom tasks also!  Once the model is trained, we optimize it using NVIDIA TensorRT on the Jetson Nano.\n",
    "\n",
    "This makes the network very fast, capable of real-time execution on Jetson Nano!  We won't run through all of the training and optimization steps in this notebook though.\n",
    "\n",
    "Anyways, let's get started.  First, we'll want to import the ``Object_Follower`` class which takes our pre-trained SSD engine or yolo engine."
   ]
  },
  {
   "cell_type": "code",
   "execution_count": 1,
   "id": "5f53c9fa-0817-4c33-a2b4-91b10dd1c0b6",
   "metadata": {},
   "outputs": [],
   "source": [
    "from IPython.display import display\n",
    "import ipywidgets.widgets as widgets\n",
    "from ipywidgets.widgets import Box, HBox, VBox, Layout, Label\n",
    "from IPython.display import clear_output\n",
    "import traitlets\n"
   ]
  },
  {
   "cell_type": "code",
   "execution_count": 2,
   "id": "b1c8856f10648d6f",
   "metadata": {},
   "outputs": [],
   "source": [
    "# %pip install pandas\n",
    "from jetbot.utils import model_selection as ms\n",
    "from jetbot import FleeterTRT"
   ]
  },
  {
   "cell_type": "code",
   "execution_count": 3,
   "id": "d0a9485c1d715293",
   "metadata": {},
   "outputs": [
    {
     "name": "stdout",
     "output_type": "stream",
     "text": [
      "nvbuf_utils: Could not get EGL display connection\n",
      "GST_ARGUS: Creating output stream\n",
      "CONSUMER: Waiting until producer is connected...\n",
      "GST_ARGUS: Available Sensor modes :\n",
      "GST_ARGUS: 3264 x 2464 FR = 21.000000 fps Duration = 47619048 ; Analog Gain range min 1.000000, max 10.625000; Exposure Range min 13000, max 683709000;\n",
      "\n",
      "GST_ARGUS: 3264 x 1848 FR = 28.000001 fps Duration = 35714284 ; Analog Gain range min 1.000000, max 10.625000; Exposure Range min 13000, max 683709000;\n",
      "\n",
      "GST_ARGUS: 1920 x 1080 FR = 29.999999 fps Duration = 33333334 ; Analog Gain range min 1.000000, max 10.625000; Exposure Range min 13000, max 683709000;\n",
      "\n",
      "GST_ARGUS: 1640 x 1232 FR = 29.999999 fps Duration = 33333334 ; Analog Gain range min 1.000000, max 10.625000; Exposure Range min 13000, max 683709000;\n",
      "\n",
      "GST_ARGUS: 1280 x 720 FR = 59.999999 fps Duration = 16666667 ; Analog Gain range min 1.000000, max 10.625000; Exposure Range min 13000, max 683709000;\n",
      "\n",
      "GST_ARGUS: 1280 x 720 FR = 120.000005 fps Duration = 8333333 ; Analog Gain range min 1.000000, max 10.625000; Exposure Range min 13000, max 683709000;\n",
      "\n",
      "GST_ARGUS: Running with following settings:\n",
      "   Camera index = 0 \n",
      "   Camera mode  = 3 \n",
      "   Output Stream W = 1640 H = 1232 \n",
      "   seconds to Run    = 0 \n",
      "   Frame Rate = 29.999999 \n",
      "GST_ARGUS: Setup Complete, Starting captures for 0 seconds\n",
      "GST_ARGUS: Starting repeat capture requests.\n",
      "CONSUMER: Producer has connected; continuing.\n"
     ]
    },
    {
     "name": "stderr",
     "output_type": "stream",
     "text": [
      "[ WARN:0@10.720] global cap_gstreamer.cpp:1777 open OpenCV | GStreamer warning: Cannot query video position: status=0, value=-1, duration=-1\n"
     ]
    },
    {
     "data": {
      "text/plain": [
       "<traitlets.traitlets.directional_link at 0x7f0007b8e0>"
      ]
     },
     "execution_count": 3,
     "metadata": {},
     "output_type": "execute_result"
    }
   ],
   "source": [
    "FL = FleeterTRT(init_sensor_fm=False)\n",
    "FL.conf_th = 0.5\n",
    "\n",
    "od_trt_ms = ms.trt_model_selection()\n",
    "od_trt_ms.model_function = \"object detection\"\n",
    "\n",
    "od_model_type_widget = widgets.Select(options=od_trt_ms.model_type_list, value=od_trt_ms.model_type_list[0], description='Object Detection Model Type:')\n",
    "traitlets.dlink((od_trt_ms, 'model_type_list'), (od_model_type_widget, 'options'))\n",
    "traitlets.dlink((od_model_type_widget, 'value'), (od_trt_ms, 'model_type'))\n",
    "traitlets.dlink((od_trt_ms, 'model_type'), (FL, 'type_follower_model'))\n",
    "\n",
    "od_model_path_widget = widgets.Select(options=od_trt_ms.model_path_list, description='Model Path:', layout=Layout(width='60%'))\n",
    "traitlets.dlink((od_trt_ms, 'model_path_list'), (od_model_path_widget, 'options'))\n",
    "traitlets.dlink((od_model_path_widget, 'value'), (od_trt_ms, 'model_path'))\n",
    "traitlets.dlink((od_trt_ms, 'model_path'), (FL, 'follower_model'))\n",
    "\n",
    "# display(HBox([od_model_type_widget, od_model_path_widget]))"
   ]
  },
  {
   "cell_type": "code",
   "execution_count": 4,
   "id": "e489d4340a56e4de",
   "metadata": {},
   "outputs": [
    {
     "data": {
      "text/plain": [
       "<traitlets.traitlets.directional_link at 0x7f00049700>"
      ]
     },
     "execution_count": 4,
     "metadata": {},
     "output_type": "execute_result"
    }
   ],
   "source": [
    "rd_trt_ms = ms.trt_model_selection()\n",
    "rd_trt_ms.model_function = \"classifier\"\n",
    "\n",
    "rd_model_type_widget = widgets.Select(options=rd_trt_ms.model_type_list, value=rd_trt_ms.model_type_list[0], description='Classifier Model Type:')\n",
    "traitlets.dlink((rd_trt_ms, 'model_type_list'), (rd_model_type_widget, 'options'))\n",
    "traitlets.dlink((rd_model_type_widget, 'value'), (rd_trt_ms, 'model_type'))\n",
    "traitlets.dlink((rd_trt_ms, 'model_type'), (FL, 'type_cruiser_model'))\n",
    "\n",
    "rd_model_path_widget = widgets.Select(options=rd_trt_ms.model_path_list, description='Model Path:', layout=Layout(width='60%'))\n",
    "traitlets.dlink((rd_trt_ms, 'model_path_list'), (rd_model_path_widget, 'options'))\n",
    "traitlets.dlink((rd_model_path_widget, 'value'), (rd_trt_ms, 'model_path'))\n",
    "traitlets.dlink((rd_trt_ms, 'model_path'), (FL, 'cruiser_model'))\n",
    "\n",
    "# display(HBox([rd_model_type_widget, rd_model_path_widget]))"
   ]
  },
  {
   "cell_type": "markdown",
   "id": "5b9261761df11435",
   "metadata": {},
   "source": [
    "The followings is to construct the control widgets for fleet control."
   ]
  },
  {
   "cell_type": "code",
   "execution_count": 5,
   "id": "f38029e13e04a95d",
   "metadata": {},
   "outputs": [],
   "source": [
    "out = widgets.Output()\n",
    "\n",
    "# image_widget = widgets.Image(format='jpeg', width=OF.img_width, height=OF.img_height)\n",
    "image_widget = widgets.Image(format='jpeg', width=300, height=300, layout = Layout(align_self='center'))\n",
    "\n",
    "# display(image_widget)\n",
    "traitlets.dlink((FL, 'cap_image'), (image_widget, 'value'))\n",
    "\n",
    "# display buttons\n",
    "button_layout = widgets.Layout(width='100px', height='40px', align_self='center')\n",
    "stop_button = widgets.Button(description='Stop', button_style='danger', tooltip='Click to stop running', icon='stop', layout=button_layout)\n",
    "start_button = widgets.Button(description='Start', tooltip='Click to start running', layout=button_layout)\n",
    "button_box = widgets.HBox([start_button, stop_button], layout=widgets.Layout(justify_content='space-around', width='30%'))\n"
   ]
  },
  {
   "cell_type": "code",
   "execution_count": 6,
   "id": "411c644f9d8f8dab",
   "metadata": {},
   "outputs": [
    {
     "data": {
      "text/plain": [
       "<traitlets.traitlets.directional_link at 0x7ef82618b0>"
      ]
     },
     "execution_count": 6,
     "metadata": {},
     "output_type": "execute_result"
    }
   ],
   "source": [
    "# infos and params of fleeting\n",
    "w_layout = Layout(flex='1 1 auto', width='auto')\n",
    "blocked_widget = widgets.FloatSlider(min=0.0, max=1.0, value=0.0, description='blocked', layout=w_layout)\n",
    "object_view_widget = widgets.FloatSlider(min=0.0, max=1.0, value=0.0, description='object view', layout=w_layout)\n",
    "label_widget = widgets.BoundedIntText(value=1, min=0, max=100, step=1, description='tracked label', layout=w_layout)  # target to be tracked\n",
    "label_text_widget = widgets.Text(value='', description='label name', layout=w_layout)  # target name to be tracked\n",
    "speed_widget = widgets.FloatSlider(min=0, max=1.0, description='speed', readout_format='.3f', layout=w_layout)\n",
    "speed_gain_widget = widgets.FloatSlider(value=0.1, min=0.0, max=0.5, step=0.01, description='speed_gain', readout_format='.3f', layout=w_layout)\n",
    "speed_dev_widget = widgets.FloatSlider(value=0.5, min=0.0, max=1.0, step=0.01, description='speed_dev', readout_format='.3f', layout=w_layout)\n",
    "turn_gain_widget = widgets.FloatSlider(value=0.25, min=0.05, max=0.5, step=0.001, description='turn gain', readout_format='.3f', layout=w_layout)\n",
    "steering_bias_widget = widgets.FloatSlider(value=0.0, min=-0.1, max=0.1, step=0.001, description='steering bias', readout_format='.3f', layout=w_layout)\n",
    "view_target_widget = widgets.FloatSlider(value=0.3, min=0.001, max=1.0, step=0.001, description='view_target', readout_format='.3f', layout=w_layout)\n",
    "\n",
    "traitlets.dlink((FL, 'blocked'), (blocked_widget, 'value'))\n",
    "traitlets.dlink((FL, 'mean_view'), (object_view_widget, 'value'))\n",
    "traitlets.dlink((label_widget, 'value'), (FL, 'label'))\n",
    "traitlets.dlink((FL, 'label_text'), (label_text_widget, 'value'))\n",
    "traitlets.dlink((turn_gain_widget, 'value'), (FL, 'turn_gain_fm'))\n",
    "traitlets.dlink((speed_gain_widget, 'value'), (FL, 'speed_gain_fm'))\n",
    "traitlets.dlink((speed_dev_widget, 'value'), (FL, 'speed_dev_fm'))\n",
    "traitlets.dlink((FL, 'speed_fm'), (speed_widget, 'value'))\n",
    "traitlets.dlink((steering_bias_widget, 'value'), (FL, 'steering_bias_fm'))\n",
    "traitlets.dlink((view_target_widget, 'value'), (FL, 'target_view'))"
   ]
  },
  {
   "cell_type": "code",
   "execution_count": 7,
   "id": "437460c981770071",
   "metadata": {},
   "outputs": [],
   "source": [
    "# control params of road cruising\n",
    "speed_gain_slider = widgets.FloatSlider(min=0, max=1, step=0.001, value=0.2, description='speed gain', readout_format='.3f')\n",
    "steering_gain_slider = widgets.FloatSlider(min=0, max=0.5, step=0.001, value=0.08, description='steering gain', readout_format='.3f')\n",
    "steering_dgain_slider = widgets.FloatSlider(min=0, max=2.0, step=0.001, value=0.82, description='steering kd', readout_format='.3f')\n",
    "steering_bias_slider = widgets.FloatSlider(min=-0.1, max=0.1, step=0.001, value=-0.01, description='steering bias', readout_format='.3f')\n",
    "\n",
    "traitlets.dlink((speed_gain_slider, 'value'), (FL, 'speed_gain_rc'))\n",
    "traitlets.dlink((steering_gain_slider, 'value'), (FL, 'steering_gain_rc'))\n",
    "traitlets.dlink((steering_dgain_slider, 'value'), (FL, 'steering_dgain_rc'))\n",
    "traitlets.dlink((steering_bias_slider, 'value'), (FL, 'steering_bias_rc'))\n",
    "\n",
    "# VBox_image = VBox([image_widget], layout=Layout(align_self='center'))\n",
    "VBox_control = VBox([speed_gain_slider, steering_gain_slider, steering_dgain_slider, steering_bias_slider], layout=Layout(align_self='center'))\n",
    "\n",
    "# stat information of road cruising\n",
    "x_slider = widgets.FloatSlider(min=-1.0, max=1.0, description='x')\n",
    "y_slider = widgets.FloatSlider(min=0, max=1.0, orientation='vertical', description='y')\n",
    "steering_slider = widgets.FloatSlider(min=-1.0, max=1.0, description='steering')\n",
    "speed_slider = widgets.FloatSlider(min=0.0, max=1.0, orientation='vertical', description='speed')\n",
    "\n",
    "traitlets.dlink((FL, 'x_slider'), (x_slider, 'value'))\n",
    "traitlets.dlink((FL, 'y_slider'), (y_slider, 'value'))\n",
    "traitlets.dlink((FL, 'steering_rc'), (steering_slider, 'value'))\n",
    "traitlets.dlink((FL, 'speed_rc'), (speed_slider, 'value'))\n",
    "\n",
    "Box_y_state = HBox([y_slider, speed_slider])\n",
    "Box_x_state = VBox([x_slider, steering_slider])\n",
    "Box_state = VBox([Box_y_state, Box_x_state])\n"
   ]
  },
  {
   "cell_type": "code",
   "execution_count": 8,
   "id": "aaae18b54ef351eb",
   "metadata": {},
   "outputs": [],
   "source": [
    "def start(change):\n",
    "    FL.start_fm(change)\n",
    "\n",
    "def stop(change):\n",
    "    FL.stop_fm(change)\n",
    "    %reset -f"
   ]
  },
  {
   "cell_type": "code",
   "execution_count": 9,
   "id": "cca5a080c047808b",
   "metadata": {},
   "outputs": [
    {
     "data": {
      "application/vnd.jupyter.widget-view+json": {
       "model_id": "d90e3a61e3074080ba32bfc35f0e876e",
       "version_major": 2,
       "version_minor": 0
      },
      "text/plain": [
       "HBox(children=(Select(description='Object Detection Model Type:', options=('SSD', 'SSD_FPN', 'YOLO', 'YOLO_v7'…"
      ]
     },
     "metadata": {},
     "output_type": "display_data"
    },
    {
     "data": {
      "application/vnd.jupyter.widget-view+json": {
       "model_id": "ee5361c880854d678fc5773a4d35d25d",
       "version_major": 2,
       "version_minor": 0
      },
      "text/plain": [
       "HBox(children=(Select(description='Classifier Model Type:', options=('InceptionNet', 'ResNet'), value='Incepti…"
      ]
     },
     "metadata": {},
     "output_type": "display_data"
    },
    {
     "data": {
      "application/vnd.jupyter.widget-view+json": {
       "model_id": "7d1a5c5211e946ed888900086602bd44",
       "version_major": 2,
       "version_minor": 0
      },
      "text/plain": [
       "HBox(children=(VBox(children=(Image(value=b'\\xc8\\x82\\xdc\\xb1\\x7f\\x00\\x00\\x00\\xc8\\x82\\xdc\\xb1\\x7f\\x00\\x00\\x00\\x…"
      ]
     },
     "metadata": {},
     "output_type": "display_data"
    },
    {
     "data": {
      "application/vnd.jupyter.widget-view+json": {
       "model_id": "3ff0a011ff69449ca9835d816484ddc9",
       "version_major": 2,
       "version_minor": 0
      },
      "text/plain": [
       "HBox(children=(HBox(children=(Button(description='Start', layout=Layout(align_self='center', height='40px', wi…"
      ]
     },
     "metadata": {},
     "output_type": "display_data"
    }
   ],
   "source": [
    "RC_box_layout = Layout(display='flex', flex_flow='column', align_items='stretch', border='solid 2px', width='60%')\n",
    "FL_box_layout = Layout(display='flex', flex_flow='column', align_items='stretch', border='solid 2px', width='60%')\n",
    "H_box_layout = Layout(display='flex', flex_flow='row', align_items='stretch')\n",
    "label_layout = Layout(display='flex', flex_flow='row', align_items='stretch', align_self='center')\n",
    "\n",
    "# fleet control widgets \n",
    "Fleet_Control_items = [HBox([Label(value='--- Fleet Control ---')], layout=Layout(align_self='center')),\n",
    "                       HBox([blocked_widget, object_view_widget], layout = H_box_layout),\n",
    "                       HBox([speed_widget, view_target_widget], layout = H_box_layout),\n",
    "                       HBox([speed_gain_widget, speed_dev_widget], layout = H_box_layout),\n",
    "                       HBox([turn_gain_widget, steering_bias_widget], layout = H_box_layout)]\n",
    "\n",
    "RC_control_items = [HBox([Label(value='--- Cruising Control ---')], layout=Layout(align_self='center')),\n",
    "                    HBox([Box_state, VBox_control], layout = H_box_layout)]\n",
    "\n",
    "image_items = [image_widget, VBox([label_text_widget, label_widget])]\n",
    "\n",
    "display(HBox([od_model_type_widget, od_model_path_widget]))\n",
    "display(HBox([rd_model_type_widget, rd_model_path_widget]))\n",
    "\n",
    "display(HBox([VBox(children = image_items, layout = Layout(align_self='center')),\n",
    "              Box(children = RC_control_items, layout = RC_box_layout)], layout = Layout(justify_content='space-between')),\n",
    "        HBox([button_box, Box(children = Fleet_Control_items, layout = FL_box_layout)], layout = Layout(align_items='stretch', justify_content='space-between')))\n",
    "\n",
    "start_button.on_click(start)\n",
    "stop_button.on_click(stop)"
   ]
  }
 ],
 "metadata": {
  "kernelspec": {
   "display_name": "Python 3 (ipykernel)",
   "language": "python",
   "name": "python3"
  },
  "language_info": {
   "codemirror_mode": {
    "name": "ipython",
    "version": 3
   },
   "file_extension": ".py",
   "mimetype": "text/x-python",
   "name": "python",
   "nbconvert_exporter": "python",
   "pygments_lexer": "ipython3",
   "version": "3.8.10"
  }
 },
 "nbformat": 4,
 "nbformat_minor": 5
}
